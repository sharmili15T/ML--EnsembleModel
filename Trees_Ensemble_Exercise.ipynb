{
 "cells": [
  {
   "cell_type": "markdown",
   "id": "33f88e2d",
   "metadata": {},
   "source": [
    "**Problem Statement:**\n",
    "To predict the median prices of homes located in boston area given other attributes of the house.\n",
    "\n",
    "\n",
    "Boston House Prices dataset\n",
    "===========================\n",
    "\n",
    "Data Set Characteristics:\n",
    "- Number of Instances: 506\n",
    "- Number of Attributes: 13 numeric/categorical predictive\n",
    "- Median Value (attribute 14) is usually the target\n",
    "- Attribute Information (in order):\n",
    "   \n",
    "   – CRIM per capita crime rate by town\n",
    "   \n",
    "   – ZN proportion of residential land zoned for lots over 25,000 sq.ft.\n",
    "   \n",
    "   – INDUS proportion of non-retail business acres per town\n",
    "   \n",
    "   – CHAS Charles River dummy variable (= 1 if tract bounds river; 0 otherwise)\n",
    "   \n",
    "   – NOX nitric oxides concentration (parts per 10 million)\n",
    "   \n",
    "   – RM average number of rooms per dwelling\n",
    "   \n",
    "   – AGE proportion of owner-occupied units built prior to 1940\n",
    "   \n",
    "   – DIS weighted distances to five Boston employment centres\n",
    "   \n",
    "   – RAD index of accessibility to radial highways\n",
    "   \n",
    "   – TAX full-value property-tax rate per 10,000 USD\n",
    "   \n",
    "   – PTRATIO pupil-teacher ratio by town\n",
    "   \n",
    "   – B 1000(Bk – 0.63)^2 where Bk is the proportion of blacks by town\n",
    "   \n",
    "   – LSTAT % lower status of the population\n",
    "   \n",
    "   – MEDV Median value of owner-occupied homes in $1000’s"
   ]
  },
  {
   "cell_type": "code",
   "execution_count": 1,
   "id": "20cd7f90",
   "metadata": {},
   "outputs": [],
   "source": [
    "# 1. Fit a decision tree regressor and evaluate its performance.\n",
    "# 2. Display the tree.\n",
    "# 3. Tune the parameters and determine the best decision tree regressor model."
   ]
  },
  {
   "cell_type": "code",
   "execution_count": 2,
   "id": "fb65295a",
   "metadata": {},
   "outputs": [],
   "source": [
    "####################################################################################################################"
   ]
  },
  {
   "cell_type": "code",
   "execution_count": 3,
   "id": "778ceff8",
   "metadata": {},
   "outputs": [],
   "source": [
    "# 1. Read the iris dataset and perform any pre-processing if necessary.\n",
    "# 2. Post a train-test split, model this data using ensemble algorithms such as AdaBoost and GradientBoost. You may choose \n",
    "#    an appropriate number of estimators which you think would best suit your data.\n",
    "# 3. Evaluate models' performance and assess which is a better model."
   ]
  }
 ],
 "metadata": {
  "kernelspec": {
   "display_name": "Python 3 (ipykernel)",
   "language": "python",
   "name": "python3"
  },
  "language_info": {
   "codemirror_mode": {
    "name": "ipython",
    "version": 3
   },
   "file_extension": ".py",
   "mimetype": "text/x-python",
   "name": "python",
   "nbconvert_exporter": "python",
   "pygments_lexer": "ipython3",
   "version": "3.8.11"
  }
 },
 "nbformat": 4,
 "nbformat_minor": 5
}
